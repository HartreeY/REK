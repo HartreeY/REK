{
 "cells": [
  {
   "cell_type": "code",
   "execution_count": null,
   "metadata": {},
   "outputs": [],
   "source": [
    "#= vc(x) = cat(eachslice(x, dims=4)...,dims=2)\n",
    "vcAAsel = vc(a[\"AAsel\"])\n",
    "vcAasel = vc(a[\"Aasel\"])\n",
    "vcaasel = vc(a[\"aasel\"])\n",
    "plot([vcAAsel[i,1,2500]+vcAasel[i,1,2500]+vcaasel[i,1,2500] for i in 1:500]) =#"
   ]
  },
  {
   "cell_type": "code",
   "execution_count": null,
   "metadata": {},
   "outputs": [],
   "source": [
    "function old_info_to_new(info_arr)\n",
    "    keys = [\n",
    "        \"n_gens_burnin\", \"n_gens\", \"x_max_burnin\", \"x_max\", \"y_max\", \"x_startfill\",\n",
    "        \"y_startfill\", \"trash1\", \"trash2\", \"n_demes_startfill\", \"k_capacity\",\n",
    "        \"r_prolif_rate\", \"trash3\", \"n_loci\", \"n_sel_loci\", \"mut_rate\", \"migr_rate\",\n",
    "        \"s_sel_coef\", \"h_domin_coef\", \"prop_of_del_muts\", \"old_migr_mode\"\n",
    "    ]\n",
    "    a = Dict{String,Any}(keys[i] => info_arr[i] for i in 1:length(keys))\n",
    "    a[\"n_gens_exp\"] = a[\"n_gens\"]-a[\"n_gens_burnin\"]\n",
    "    pop!(a,\"trash1\")\n",
    "    pop!(a,\"trash2\")\n",
    "    pop!(a,\"trash3\")\n",
    "    return a\n",
    "end\n",
    "\n",
    "#= function old_load_re(folder_path,re_name)\n",
    "    stats = isfile(\"$folder_path/$re_name.info\") ? (deserialize(\"$folder_path/$re_name.info\") |> old_info_to_new) : NaN\n",
    "    dat = isfile(\"$folder_path/$re_name.dat\") ? deserialize(\"$folder_path/$re_name.dat\") : [NaN,NaN,NaN,NaN,NaN,NaN,NaN,NaN]\n",
    "    return Dict(\"stats\"=>stats,\"meanf\"=>dat[1],\"pops\"=>dat[8],\"AAsel\"=>dat[2],\"Aasel\"=>dat[3],\n",
    "    \"aasel\"=>dat[4],\"AAneu\"=>dat[5],\"Aaneu\"=>dat[6],\"aaneu\"=>dat[7])\n",
    "end =#\n",
    "\n",
    "\"\"\"\n",
    "(Obsolete) Loads range expansion data from `folder_path`. You only need to specify the filename (root) `re_name`. Automatically loads batches of data if more than one iterate is found.\n",
    "\"\"\"\n",
    "function old_load_re(folder_path,re_name)\n",
    "    stats1 = isfile(\"$folder_path/$(re_name)_1.info\") ? (deserialize(\"$folder_path/$(re_name)_1.info\") |> old_info_to_new) : NaN\n",
    "    dat1 = isfile(\"$folder_path/$(re_name)_1.dat\") ? deserialize(\"$folder_path/$(re_name)_1.dat\") : [NaN,NaN,NaN,NaN,NaN,NaN,NaN,NaN]\n",
    "    res = Dict(\"stats\"=>stats1,\"meanf\"=>dat1[1],\"pops\"=>dat1[8],\"AAsel\"=>dat1[2],\"Aasel\"=>dat1[3],\n",
    "    \"aasel\"=>dat1[4],\"AAneu\"=>dat1[5],\"Aaneu\"=>dat1[6],\"aaneu\"=>dat1[7])\n",
    "    i = 2\n",
    "    while isfile(\"$folder_path/$(re_name)_$i.dat\")\n",
    "        dat = deserialize(\"$folder_path/$(re_name)_$i.dat\")\n",
    "        res[\"meanf\"] = cat(res[\"meanf\"],dat[1],dims=4)\n",
    "        res[\"pops\"] = cat(res[\"pops\"],dat[8],dims=4)\n",
    "        res[\"AAsel\"] = cat(res[\"AAsel\"],dat[2],dims=4)\n",
    "        res[\"Aasel\"] = cat(res[\"Aasel\"],dat[3],dims=4)\n",
    "        res[\"aasel\"] = cat(res[\"aasel\"],dat[4],dims=4)\n",
    "        res[\"AAneu\"] = cat(res[\"AAneu\"],dat[5],dims=4)\n",
    "        res[\"Aaneu\"] = cat(res[\"Aaneu\"],dat[6],dims=4)\n",
    "        res[\"aaneu\"] = cat(res[\"aaneu\"],dat[7],dims=4)\n",
    "        i += 1\n",
    "    end\n",
    "    return res\n",
    "end"
   ]
  },
  {
   "cell_type": "code",
   "execution_count": null,
   "metadata": {},
   "outputs": [],
   "source": [
    "a = old_load_re(\"D:/Coding/range-exp-simulat/data/2d_axial_real/\",\"ooa_m0\")\n",
    "a[\"stats\"][\"name\"] = \"4\"\n",
    "re_plot_avrelselneu(a,\"Aa\")"
   ]
  },
  {
   "cell_type": "code",
   "execution_count": null,
   "metadata": {},
   "outputs": [],
   "source": [
    "b = old_load_re(\"D:/Coding/range-exp-simulat/data/2d_axial_real/\",\"ooa_m1\")\n",
    "b[\"stats\"][\"name\"] = \"buffon1\"\n",
    "re_plot_avrelselneu!(b,\"Aa\")"
   ]
  },
  {
   "cell_type": "code",
   "execution_count": null,
   "metadata": {},
   "outputs": [],
   "source": [
    "c = old_load_re(\"D:/Coding/range-exp-simulat/data/2d_axial_real/\",\"ooa_m4\")\n",
    "c[\"stats\"][\"name\"] = \"8\"\n",
    "re_plot_avrelselneu!(c,\"Aa\")"
   ]
  },
  {
   "cell_type": "code",
   "execution_count": null,
   "metadata": {},
   "outputs": [],
   "source": [
    "d = old_load_re(\"D:/Coding/range-exp-simulat/data/2d_axial_real/\",\"ooa_m5\")\n",
    "d[\"stats\"][\"name\"] = \"diag1/2\"\n",
    "re_plot_avrelselneu!(d,\"Aa\")"
   ]
  }
 ],
 "metadata": {
  "kernelspec": {
   "display_name": "Julia 1.10.3",
   "language": "julia",
   "name": "julia-1.10"
  },
  "language_info": {
   "file_extension": ".jl",
   "mimetype": "application/julia",
   "name": "julia",
   "version": "1.10.3"
  }
 },
 "nbformat": 4,
 "nbformat_minor": 2
}
